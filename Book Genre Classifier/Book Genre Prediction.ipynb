{
 "cells": [
  {
   "cell_type": "code",
   "execution_count": 1,
   "id": "classified-minutes",
   "metadata": {},
   "outputs": [],
   "source": [
    "import pandas as pd\n",
    "import numpy as np\n",
    "import seaborn as sn\n",
    "import matplotlib.pyplot as plt\n",
    "import re\n",
    "import nltk\n",
    "from collections import Counter\n",
    "from sklearn.feature_extraction.text import TfidfVectorizer,CountVectorizer\n",
    "from sklearn.model_selection import train_test_split\n",
    "from sklearn.tree import DecisionTreeClassifier\n",
    "from sklearn.ensemble import RandomForestClassifier\n",
    "from sklearn.naive_bayes import GaussianNB,MultinomialNB\n",
    "from sklearn.svm import SVC\n",
    "from sklearn import metrics"
   ]
  },
  {
   "cell_type": "code",
   "execution_count": 2,
   "id": "foreign-concert",
   "metadata": {},
   "outputs": [
    {
     "data": {
      "text/html": [
       "<div>\n",
       "<style scoped>\n",
       "    .dataframe tbody tr th:only-of-type {\n",
       "        vertical-align: middle;\n",
       "    }\n",
       "\n",
       "    .dataframe tbody tr th {\n",
       "        vertical-align: top;\n",
       "    }\n",
       "\n",
       "    .dataframe thead th {\n",
       "        text-align: right;\n",
       "    }\n",
       "</style>\n",
       "<table border=\"1\" class=\"dataframe\">\n",
       "  <thead>\n",
       "    <tr style=\"text-align: right;\">\n",
       "      <th></th>\n",
       "      <th>Unnamed: 0</th>\n",
       "      <th>book_id</th>\n",
       "      <th>book_name</th>\n",
       "      <th>genre</th>\n",
       "      <th>summary</th>\n",
       "    </tr>\n",
       "  </thead>\n",
       "  <tbody>\n",
       "    <tr>\n",
       "      <th>0</th>\n",
       "      <td>0</td>\n",
       "      <td>3248537</td>\n",
       "      <td>Drowned Wednesday</td>\n",
       "      <td>Fantasy</td>\n",
       "      <td>Drowned Wednesday is the first Trustee among ...</td>\n",
       "    </tr>\n",
       "    <tr>\n",
       "      <th>1</th>\n",
       "      <td>1</td>\n",
       "      <td>27796919</td>\n",
       "      <td>The Lost Hero</td>\n",
       "      <td>Fantasy</td>\n",
       "      <td>As the book opens, Jason awakens on a school ...</td>\n",
       "    </tr>\n",
       "    <tr>\n",
       "      <th>2</th>\n",
       "      <td>2</td>\n",
       "      <td>3910776</td>\n",
       "      <td>The Eyes of the Overworld</td>\n",
       "      <td>Fantasy</td>\n",
       "      <td>Cugel is easily persuaded by the merchant Fia...</td>\n",
       "    </tr>\n",
       "    <tr>\n",
       "      <th>3</th>\n",
       "      <td>3</td>\n",
       "      <td>5969644</td>\n",
       "      <td>Magic's Promise</td>\n",
       "      <td>Fantasy</td>\n",
       "      <td>The book opens with Herald-Mage Vanyel return...</td>\n",
       "    </tr>\n",
       "    <tr>\n",
       "      <th>4</th>\n",
       "      <td>4</td>\n",
       "      <td>3173445</td>\n",
       "      <td>Taran Wanderer</td>\n",
       "      <td>Fantasy</td>\n",
       "      <td>Taran and Gurgi have returned to Caer Dallben...</td>\n",
       "    </tr>\n",
       "  </tbody>\n",
       "</table>\n",
       "</div>"
      ],
      "text/plain": [
       "   Unnamed: 0   book_id                  book_name    genre  \\\n",
       "0           0   3248537          Drowned Wednesday  Fantasy   \n",
       "1           1  27796919              The Lost Hero  Fantasy   \n",
       "2           2   3910776  The Eyes of the Overworld  Fantasy   \n",
       "3           3   5969644            Magic's Promise  Fantasy   \n",
       "4           4   3173445             Taran Wanderer  Fantasy   \n",
       "\n",
       "                                             summary  \n",
       "0   Drowned Wednesday is the first Trustee among ...  \n",
       "1   As the book opens, Jason awakens on a school ...  \n",
       "2   Cugel is easily persuaded by the merchant Fia...  \n",
       "3   The book opens with Herald-Mage Vanyel return...  \n",
       "4   Taran and Gurgi have returned to Caer Dallben...  "
      ]
     },
     "execution_count": 2,
     "metadata": {},
     "output_type": "execute_result"
    }
   ],
   "source": [
    "books = pd.read_csv('BooksDataSet.csv')\n",
    "books.head()"
   ]
  },
  {
   "cell_type": "code",
   "execution_count": 3,
   "id": "cooperative-portsmouth",
   "metadata": {},
   "outputs": [
    {
     "data": {
      "text/html": [
       "<div>\n",
       "<style scoped>\n",
       "    .dataframe tbody tr th:only-of-type {\n",
       "        vertical-align: middle;\n",
       "    }\n",
       "\n",
       "    .dataframe tbody tr th {\n",
       "        vertical-align: top;\n",
       "    }\n",
       "\n",
       "    .dataframe thead th {\n",
       "        text-align: right;\n",
       "    }\n",
       "</style>\n",
       "<table border=\"1\" class=\"dataframe\">\n",
       "  <thead>\n",
       "    <tr style=\"text-align: right;\">\n",
       "      <th></th>\n",
       "      <th>book_id</th>\n",
       "      <th>book_name</th>\n",
       "      <th>genre</th>\n",
       "      <th>summary</th>\n",
       "    </tr>\n",
       "  </thead>\n",
       "  <tbody>\n",
       "    <tr>\n",
       "      <th>0</th>\n",
       "      <td>3248537</td>\n",
       "      <td>Drowned Wednesday</td>\n",
       "      <td>Fantasy</td>\n",
       "      <td>Drowned Wednesday is the first Trustee among ...</td>\n",
       "    </tr>\n",
       "    <tr>\n",
       "      <th>1</th>\n",
       "      <td>27796919</td>\n",
       "      <td>The Lost Hero</td>\n",
       "      <td>Fantasy</td>\n",
       "      <td>As the book opens, Jason awakens on a school ...</td>\n",
       "    </tr>\n",
       "    <tr>\n",
       "      <th>2</th>\n",
       "      <td>3910776</td>\n",
       "      <td>The Eyes of the Overworld</td>\n",
       "      <td>Fantasy</td>\n",
       "      <td>Cugel is easily persuaded by the merchant Fia...</td>\n",
       "    </tr>\n",
       "  </tbody>\n",
       "</table>\n",
       "</div>"
      ],
      "text/plain": [
       "    book_id                  book_name    genre  \\\n",
       "0   3248537          Drowned Wednesday  Fantasy   \n",
       "1  27796919              The Lost Hero  Fantasy   \n",
       "2   3910776  The Eyes of the Overworld  Fantasy   \n",
       "\n",
       "                                             summary  \n",
       "0   Drowned Wednesday is the first Trustee among ...  \n",
       "1   As the book opens, Jason awakens on a school ...  \n",
       "2   Cugel is easily persuaded by the merchant Fia...  "
      ]
     },
     "execution_count": 3,
     "metadata": {},
     "output_type": "execute_result"
    }
   ],
   "source": [
    "# removing the unnamed : 0\n",
    "\n",
    "books = books[['book_id', 'book_name', 'genre', 'summary']]\n",
    "books.head(3)"
   ]
  },
  {
   "cell_type": "code",
   "execution_count": 4,
   "id": "liquid-athletics",
   "metadata": {},
   "outputs": [
    {
     "name": "stdout",
     "output_type": "stream",
     "text": [
      "<class 'pandas.core.frame.DataFrame'>\n",
      "RangeIndex: 3000 entries, 0 to 2999\n",
      "Data columns (total 4 columns):\n",
      " #   Column     Non-Null Count  Dtype \n",
      "---  ------     --------------  ----- \n",
      " 0   book_id    3000 non-null   int64 \n",
      " 1   book_name  3000 non-null   object\n",
      " 2   genre      3000 non-null   object\n",
      " 3   summary    3000 non-null   object\n",
      "dtypes: int64(1), object(3)\n",
      "memory usage: 93.9+ KB\n"
     ]
    }
   ],
   "source": [
    "books.info()"
   ]
  },
  {
   "cell_type": "code",
   "execution_count": 5,
   "id": "compliant-height",
   "metadata": {},
   "outputs": [
    {
     "ename": "ValueError",
     "evalue": "rotation must be 'vertical', 'horizontal' or a number, not 45",
     "output_type": "error",
     "traceback": [
      "\u001b[1;31m---------------------------------------------------------------------------\u001b[0m",
      "\u001b[1;31mValueError\u001b[0m                                Traceback (most recent call last)",
      "Cell \u001b[1;32mIn[5], line 2\u001b[0m\n\u001b[0;32m      1\u001b[0m sn\u001b[38;5;241m.\u001b[39mcountplot(x \u001b[38;5;241m=\u001b[39m books[\u001b[38;5;124m'\u001b[39m\u001b[38;5;124mgenre\u001b[39m\u001b[38;5;124m'\u001b[39m],palette\u001b[38;5;241m=\u001b[39m\u001b[38;5;124m'\u001b[39m\u001b[38;5;124mplasma\u001b[39m\u001b[38;5;124m'\u001b[39m)\n\u001b[1;32m----> 2\u001b[0m \u001b[43mplt\u001b[49m\u001b[38;5;241;43m.\u001b[39;49m\u001b[43mxticks\u001b[49m\u001b[43m(\u001b[49m\u001b[43mrotation\u001b[49m\u001b[43m \u001b[49m\u001b[38;5;241;43m=\u001b[39;49m\u001b[43m \u001b[49m\u001b[38;5;124;43m'\u001b[39;49m\u001b[38;5;124;43m45\u001b[39;49m\u001b[38;5;124;43m'\u001b[39;49m\u001b[43m)\u001b[49m\n",
      "File \u001b[1;32mc:\\Users\\Richa\\anaconda3\\lib\\site-packages\\matplotlib\\pyplot.py:2051\u001b[0m, in \u001b[0;36mxticks\u001b[1;34m(ticks, labels, minor, **kwargs)\u001b[0m\n\u001b[0;32m   2049\u001b[0m     labels_out \u001b[38;5;241m=\u001b[39m ax\u001b[38;5;241m.\u001b[39mget_xticklabels(minor\u001b[38;5;241m=\u001b[39mminor)\n\u001b[0;32m   2050\u001b[0m     \u001b[38;5;28;01mfor\u001b[39;00m l \u001b[38;5;129;01min\u001b[39;00m labels_out:\n\u001b[1;32m-> 2051\u001b[0m         \u001b[43ml\u001b[49m\u001b[38;5;241;43m.\u001b[39;49m\u001b[43m_internal_update\u001b[49m\u001b[43m(\u001b[49m\u001b[43mkwargs\u001b[49m\u001b[43m)\u001b[49m\n\u001b[0;32m   2052\u001b[0m \u001b[38;5;28;01melse\u001b[39;00m:\n\u001b[0;32m   2053\u001b[0m     labels_out \u001b[38;5;241m=\u001b[39m ax\u001b[38;5;241m.\u001b[39mset_xticklabels(labels, minor\u001b[38;5;241m=\u001b[39mminor, \u001b[38;5;241m*\u001b[39m\u001b[38;5;241m*\u001b[39mkwargs)\n",
      "File \u001b[1;32mc:\\Users\\Richa\\anaconda3\\lib\\site-packages\\matplotlib\\artist.py:1219\u001b[0m, in \u001b[0;36mArtist._internal_update\u001b[1;34m(self, kwargs)\u001b[0m\n\u001b[0;32m   1212\u001b[0m \u001b[38;5;28;01mdef\u001b[39;00m \u001b[38;5;21m_internal_update\u001b[39m(\u001b[38;5;28mself\u001b[39m, kwargs):\n\u001b[0;32m   1213\u001b[0m \u001b[38;5;250m    \u001b[39m\u001b[38;5;124;03m\"\"\"\u001b[39;00m\n\u001b[0;32m   1214\u001b[0m \u001b[38;5;124;03m    Update artist properties without prenormalizing them, but generating\u001b[39;00m\n\u001b[0;32m   1215\u001b[0m \u001b[38;5;124;03m    errors as if calling `set`.\u001b[39;00m\n\u001b[0;32m   1216\u001b[0m \n\u001b[0;32m   1217\u001b[0m \u001b[38;5;124;03m    The lack of prenormalization is to maintain backcompatibility.\u001b[39;00m\n\u001b[0;32m   1218\u001b[0m \u001b[38;5;124;03m    \"\"\"\u001b[39;00m\n\u001b[1;32m-> 1219\u001b[0m     \u001b[38;5;28;01mreturn\u001b[39;00m \u001b[38;5;28;43mself\u001b[39;49m\u001b[38;5;241;43m.\u001b[39;49m\u001b[43m_update_props\u001b[49m\u001b[43m(\u001b[49m\n\u001b[0;32m   1220\u001b[0m \u001b[43m        \u001b[49m\u001b[43mkwargs\u001b[49m\u001b[43m,\u001b[49m\u001b[43m \u001b[49m\u001b[38;5;124;43m\"\u001b[39;49m\u001b[38;5;132;43;01m{cls.__name__}\u001b[39;49;00m\u001b[38;5;124;43m.set() got an unexpected keyword argument \u001b[39;49m\u001b[38;5;124;43m\"\u001b[39;49m\n\u001b[0;32m   1221\u001b[0m \u001b[43m        \u001b[49m\u001b[38;5;124;43m\"\u001b[39;49m\u001b[38;5;132;43;01m{prop_name!r}\u001b[39;49;00m\u001b[38;5;124;43m\"\u001b[39;49m\u001b[43m)\u001b[49m\n",
      "File \u001b[1;32mc:\\Users\\Richa\\anaconda3\\lib\\site-packages\\matplotlib\\artist.py:1195\u001b[0m, in \u001b[0;36mArtist._update_props\u001b[1;34m(self, props, errfmt)\u001b[0m\n\u001b[0;32m   1192\u001b[0m             \u001b[38;5;28;01mif\u001b[39;00m \u001b[38;5;129;01mnot\u001b[39;00m \u001b[38;5;28mcallable\u001b[39m(func):\n\u001b[0;32m   1193\u001b[0m                 \u001b[38;5;28;01mraise\u001b[39;00m \u001b[38;5;167;01mAttributeError\u001b[39;00m(\n\u001b[0;32m   1194\u001b[0m                     errfmt\u001b[38;5;241m.\u001b[39mformat(\u001b[38;5;28mcls\u001b[39m\u001b[38;5;241m=\u001b[39m\u001b[38;5;28mtype\u001b[39m(\u001b[38;5;28mself\u001b[39m), prop_name\u001b[38;5;241m=\u001b[39mk))\n\u001b[1;32m-> 1195\u001b[0m             ret\u001b[38;5;241m.\u001b[39mappend(\u001b[43mfunc\u001b[49m\u001b[43m(\u001b[49m\u001b[43mv\u001b[49m\u001b[43m)\u001b[49m)\n\u001b[0;32m   1196\u001b[0m \u001b[38;5;28;01mif\u001b[39;00m ret:\n\u001b[0;32m   1197\u001b[0m     \u001b[38;5;28mself\u001b[39m\u001b[38;5;241m.\u001b[39mpchanged()\n",
      "File \u001b[1;32mc:\\Users\\Richa\\anaconda3\\lib\\site-packages\\matplotlib\\text.py:1231\u001b[0m, in \u001b[0;36mText.set_rotation\u001b[1;34m(self, s)\u001b[0m\n\u001b[0;32m   1229\u001b[0m     \u001b[38;5;28mself\u001b[39m\u001b[38;5;241m.\u001b[39m_rotation \u001b[38;5;241m=\u001b[39m \u001b[38;5;241m90.\u001b[39m\n\u001b[0;32m   1230\u001b[0m \u001b[38;5;28;01melse\u001b[39;00m:\n\u001b[1;32m-> 1231\u001b[0m     \u001b[38;5;28;01mraise\u001b[39;00m \u001b[38;5;167;01mValueError\u001b[39;00m(\u001b[38;5;124m\"\u001b[39m\u001b[38;5;124mrotation must be \u001b[39m\u001b[38;5;124m'\u001b[39m\u001b[38;5;124mvertical\u001b[39m\u001b[38;5;124m'\u001b[39m\u001b[38;5;124m, \u001b[39m\u001b[38;5;124m'\u001b[39m\u001b[38;5;124mhorizontal\u001b[39m\u001b[38;5;124m'\u001b[39m\u001b[38;5;124m or \u001b[39m\u001b[38;5;124m\"\u001b[39m\n\u001b[0;32m   1232\u001b[0m                      \u001b[38;5;124mf\u001b[39m\u001b[38;5;124m\"\u001b[39m\u001b[38;5;124ma number, not \u001b[39m\u001b[38;5;132;01m{\u001b[39;00ms\u001b[38;5;132;01m}\u001b[39;00m\u001b[38;5;124m\"\u001b[39m)\n\u001b[0;32m   1233\u001b[0m \u001b[38;5;28mself\u001b[39m\u001b[38;5;241m.\u001b[39mstale \u001b[38;5;241m=\u001b[39m \u001b[38;5;28;01mTrue\u001b[39;00m\n",
      "\u001b[1;31mValueError\u001b[0m: rotation must be 'vertical', 'horizontal' or a number, not 45"
     ]
    },
    {
     "data": {
      "image/png": "[encoded data removed]",
      "text/plain": [
       "<Figure size 640x480 with 1 Axes>"
      ]
     },
     "metadata": {},
     "output_type": "display_data"
    }
   ],
   "source": [
    "sn.countplot(x = books['genre'],palette='plasma')\n",
    "plt.xticks(rotation = '45')"
   ]
  },
  {
   "cell_type": "code",
   "execution_count": 6,
   "id": "inclusive-motel",
   "metadata": {},
   "outputs": [
    {
     "data": {
      "text/plain": [
       "' As the book opens, Jason awakens on a school bus, unable to remember who or where he is, or anything about his past. He is sitting next to Piper McLean and Leo Valdez, who call him by name and say they are his girlfriend and best friend respectively. All three are part of a class field trip to the Grand Canyon, and after they arrive, a classmate Dylan turns into a Venti (Storm Spirit) and attacks the trio and their trip leader, Coach Gleeson Hedge. In the ensuing fight, Jason surprises everyone, including himself, when one of his coins turns into a sword which he uses to battle the storm spirits. Coach Hedge, who reveals himself to be a satyr during the fight, is taken captive by a fleeing spirit. After the battle, a flying chariot arrives to rescue the trio, but one of the people in it, Annabeth, is upset when she discovers that her missing boyfriend, Percy Jackson, is not there as she expected. Annabeth, seeking Percy, was told in a vision from the goddess Hera to look there for the \"guy with one shoe\", but this turns out to be Jason, who had a shoe destroyed during the fight. Jason, Piper,and Leo are told that they are demigods and are taken back to Camp Half-Blood where they meet other greek demigod children like themselves. There, Leo is revealed as a son of Hephaestus, Piper as a daughter of Aphrodite and Jason as a son of Zeus, though Hera tells him he is her champion. Jason later discovers that he is the full brother of Zeus\\'s demigod daughter Thalia Grace, who is a Hunter of Artemis. Shortly after they arrive, the three are given a quest to rescue Hera, who has been captured, and they set off. They soon discover that their enemies are working under orders from Gaea to overthrow the gods. During their quest, they encounter Thalia and the Hunters, who have been looking for Percy. Thalia and Jason reunite for the first since Jason was captured at the age of two. On the way to Aeolus\\'s castle, Jason, Leo and Piper become separated from Thalia, who promises to meet them at the Wolf House, the last place Thalia had seen Jason before this meeting. After being nearly apprehended by Aeolus, who is under Gaea\\'s orders, the trio manage to escape thanks to Mellie, Aeolus`s former assistant, and end up in San Francisco, thanks to the result of a dream Piper had with Aphrodite. After landing in San Francisco, the trio rush to Mt.Diablo to fight the giant Enceladus, who has kidnapped Piper\\'s father. They manage to kill the giant and save Piper\\'s father, after which they rush to the Wolf House to free Hera. Although the heroes and the Hunters save Hera, the king of the giants, Porphyrion, rises fully and disappears into a hole in the Earth. Jason\\'s memory then starts returning, and he remembers that he is a hero from a Roman counterpart to Camp Half-Blood somewhere near San Francisco, and is the son of Jupiter, Zeus\\'s Roman aspect. He realizes that Hera, also known as Juno, has switched him with Percy Jackson, who will be at the Roman camp with no memory of his life, in the hopes that the two camps would ultimately work together to fight the giants and defeat the goddess Gaea.'"
      ]
     },
     "execution_count": 6,
     "metadata": {},
     "output_type": "execute_result"
    }
   ],
   "source": [
    "books['summary'].iloc[1]"
   ]
  },
  {
   "cell_type": "code",
   "execution_count": 7,
   "id": "gothic-quick",
   "metadata": {},
   "outputs": [
    {
     "data": {
      "text/plain": [
       "'as the book opens jason awakens on a school bus unable to remember who or where he is or anything about his past he is sitting next to piper mclean and leo valdez who call him by name and say they are his girlfriend and best friend respectively all three are part of a class field trip to the grand canyon and after they arrive a classmate dylan turns into a venti storm spirit and attacks the trio and their trip leader coach gleeson hedge in the ensuing fight jason surprises everyone including himself when one of his coins turns into a sword which he uses to battle the storm spirits coach hedge who reveals himself to be a satyr during the fight is taken captive by a fleeing spirit after the battle a flying chariot arrives to rescue the trio but one of the people in it annabeth is upset when she discovers that her missing boyfriend percy jackson is not there as she expected annabeth seeking percy was told in a vision from the goddess hera to look there for the guy with one shoe but this turns out to be jason who had a shoe destroyed during the fight jason piper and leo are told that they are demigods and are taken back to camp half blood where they meet other greek demigod children like themselves there leo is revealed as a son of hephaestus piper as a daughter of aphrodite and jason as a son of zeus though hera tells him he is her champion jason later discovers that he is the full brother of zeus s demigod daughter thalia grace who is a hunter of artemis shortly after they arrive the three are given a quest to rescue hera who has been captured and they set off they soon discover that their enemies are working under orders from gaea to overthrow the gods during their quest they encounter thalia and the hunters who have been looking for percy thalia and jason reunite for the first since jason was captured at the age of two on the way to aeolus s castle jason leo and piper become separated from thalia who promises to meet them at the wolf house the last place thalia had seen jason before this meeting after being nearly apprehended by aeolus who is under gaea s orders the trio manage to escape thanks to mellie aeolus s former assistant and end up in san francisco thanks to the result of a dream piper had with aphrodite after landing in san francisco the trio rush to mt diablo to fight the giant enceladus who has kidnapped piper s father they manage to kill the giant and save piper s father after which they rush to the wolf house to free hera although the heroes and the hunters save hera the king of the giants porphyrion rises fully and disappears into a hole in the earth jason s memory then starts returning and he remembers that he is a hero from a roman counterpart to camp half blood somewhere near san francisco and is the son of jupiter zeus s roman aspect he realizes that hera also known as juno has switched him with percy jackson who will be at the roman camp with no memory of his life in the hopes that the two camps would ultimately work together to fight the giants and defeat the goddess gaea'"
      ]
     },
     "execution_count": 7,
     "metadata": {},
     "output_type": "execute_result"
    }
   ],
   "source": [
    "## cleaning the text\n",
    "\n",
    "def cleantext(text):\n",
    "    \n",
    "    # removing the \"\\\"\n",
    "    \n",
    "    text = re.sub(\"'\\''\",\"\",text)\n",
    "    \n",
    "    # removing special symbols\n",
    "    \n",
    "    text = re.sub(\"[^a-zA-Z]\",\" \",text)\n",
    "    \n",
    "    # removing the whitespaces\n",
    "    \n",
    "    text = ' '.join(text.split())\n",
    "    \n",
    "    # convert text to lowercase\n",
    "    \n",
    "    text = text.lower()\n",
    "    \n",
    "    return text\n",
    "\n",
    "\n",
    "    \n",
    "books['summary'] = books['summary'].apply(lambda x:cleantext(x))\n",
    "books['summary'].iloc[1]"
   ]
  },
  {
   "cell_type": "markdown",
   "id": "searching-startup",
   "metadata": {},
   "source": [
    "#### Plotting the most Frequent Words"
   ]
  },
  {
   "cell_type": "code",
   "execution_count": 8,
   "id": "beautiful-junction",
   "metadata": {
    "scrolled": true
   },
   "outputs": [
    {
     "data": {
      "image/png": "[encoded data removed]",
      "text/plain": [
       "<Figure size 700x500 with 1 Axes>"
      ]
     },
     "metadata": {},
     "output_type": "display_data"
    }
   ],
   "source": [
    "def showmostfrequentwords(text,no_of_words):\n",
    "    \n",
    "    allwords = ' '.join([char for char in text])\n",
    "    allwords = allwords.split()\n",
    "    fdist = nltk.FreqDist(allwords)\n",
    "    \n",
    "    wordsdf = pd.DataFrame({'word':list(fdist.keys()),'count':list(fdist.values())})\n",
    "    \n",
    "    df = wordsdf.nlargest(columns=\"count\",n = no_of_words)\n",
    "    \n",
    "    plt.figure(figsize=(7,5))\n",
    "    ax = sn.barplot(data=df,x = 'count',y = 'word')\n",
    "    ax.set(ylabel = 'Word')\n",
    "    plt.show()\n",
    "    \n",
    "    return wordsdf\n",
    "    \n",
    "    \n",
    "# 25 most frequent words\n",
    "\n",
    "wordsdf = showmostfrequentwords(books['summary'],25)"
   ]
  },
  {
   "cell_type": "code",
   "execution_count": 9,
   "id": "confident-mentor",
   "metadata": {},
   "outputs": [
    {
     "data": {
      "text/html": [
       "<style type=\"text/css\">\n",
       "#T_b87c8_row0_col1 {\n",
       "  background-color: #f0f921;\n",
       "  color: #000000;\n",
       "}\n",
       "#T_b87c8_row1_col1 {\n",
       "  background-color: #b02991;\n",
       "  color: #f1f1f1;\n",
       "}\n",
       "#T_b87c8_row2_col1 {\n",
       "  background-color: #a62098;\n",
       "  color: #f1f1f1;\n",
       "}\n",
       "#T_b87c8_row3_col1 {\n",
       "  background-color: #8004a8;\n",
       "  color: #f1f1f1;\n",
       "}\n",
       "#T_b87c8_row4_col1 {\n",
       "  background-color: #7a02a8;\n",
       "  color: #f1f1f1;\n",
       "}\n",
       "#T_b87c8_row5_col1 {\n",
       "  background-color: #3e049c;\n",
       "  color: #f1f1f1;\n",
       "}\n",
       "#T_b87c8_row6_col1 {\n",
       "  background-color: #38049a;\n",
       "  color: #f1f1f1;\n",
       "}\n",
       "#T_b87c8_row7_col1 {\n",
       "  background-color: #130789;\n",
       "  color: #f1f1f1;\n",
       "}\n",
       "#T_b87c8_row8_col1 {\n",
       "  background-color: #100788;\n",
       "  color: #f1f1f1;\n",
       "}\n",
       "#T_b87c8_row9_col1 {\n",
       "  background-color: #0d0887;\n",
       "  color: #f1f1f1;\n",
       "}\n",
       "</style>\n",
       "<table id=\"T_b87c8\">\n",
       "  <thead>\n",
       "    <tr>\n",
       "      <th class=\"blank level0\" >&nbsp;</th>\n",
       "      <th id=\"T_b87c8_level0_col0\" class=\"col_heading level0 col0\" >word</th>\n",
       "      <th id=\"T_b87c8_level0_col1\" class=\"col_heading level0 col1\" >count</th>\n",
       "    </tr>\n",
       "  </thead>\n",
       "  <tbody>\n",
       "    <tr>\n",
       "      <th id=\"T_b87c8_level0_row0\" class=\"row_heading level0 row0\" >3</th>\n",
       "      <td id=\"T_b87c8_row0_col0\" class=\"data row0 col0\" >the</td>\n",
       "      <td id=\"T_b87c8_row0_col1\" class=\"data row0 col1\" >99808</td>\n",
       "    </tr>\n",
       "    <tr>\n",
       "      <th id=\"T_b87c8_level0_row1\" class=\"row_heading level0 row1\" >17</th>\n",
       "      <td id=\"T_b87c8_row1_col0\" class=\"data row1 col0\" >to</td>\n",
       "      <td id=\"T_b87c8_row1_col1\" class=\"data row1 col1\" >49665</td>\n",
       "    </tr>\n",
       "    <tr>\n",
       "      <th id=\"T_b87c8_level0_row2\" class=\"row_heading level0 row2\" >14</th>\n",
       "      <td id=\"T_b87c8_row2_col0\" class=\"data row2 col0\" >and</td>\n",
       "      <td id=\"T_b87c8_row2_col1\" class=\"data row2 col1\" >47183</td>\n",
       "    </tr>\n",
       "    <tr>\n",
       "      <th id=\"T_b87c8_level0_row3\" class=\"row_heading level0 row3\" >46</th>\n",
       "      <td id=\"T_b87c8_row3_col0\" class=\"data row3 col0\" >of</td>\n",
       "      <td id=\"T_b87c8_row3_col1\" class=\"data row3 col1\" >38003</td>\n",
       "    </tr>\n",
       "    <tr>\n",
       "      <th id=\"T_b87c8_level0_row4\" class=\"row_heading level0 row4\" >23</th>\n",
       "      <td id=\"T_b87c8_row4_col0\" class=\"data row4 col0\" >a</td>\n",
       "      <td id=\"T_b87c8_row4_col1\" class=\"data row4 col1\" >36749</td>\n",
       "    </tr>\n",
       "    <tr>\n",
       "      <th id=\"T_b87c8_level0_row5\" class=\"row_heading level0 row5\" >80</th>\n",
       "      <td id=\"T_b87c8_row5_col0\" class=\"data row5 col0\" >in</td>\n",
       "      <td id=\"T_b87c8_row5_col1\" class=\"data row5 col1\" >24496</td>\n",
       "    </tr>\n",
       "    <tr>\n",
       "      <th id=\"T_b87c8_level0_row6\" class=\"row_heading level0 row6\" >2</th>\n",
       "      <td id=\"T_b87c8_row6_col0\" class=\"data row6 col0\" >is</td>\n",
       "      <td id=\"T_b87c8_row6_col1\" class=\"data row6 col1\" >23358</td>\n",
       "    </tr>\n",
       "    <tr>\n",
       "      <th id=\"T_b87c8_level0_row7\" class=\"row_heading level0 row7\" >49</th>\n",
       "      <td id=\"T_b87c8_row7_col0\" class=\"data row7 col0\" >his</td>\n",
       "      <td id=\"T_b87c8_row7_col1\" class=\"data row7 col1\" >17464</td>\n",
       "    </tr>\n",
       "    <tr>\n",
       "      <th id=\"T_b87c8_level0_row8\" class=\"row_heading level0 row8\" >51</th>\n",
       "      <td id=\"T_b87c8_row8_col0\" class=\"data row8 col0\" >he</td>\n",
       "      <td id=\"T_b87c8_row8_col1\" class=\"data row8 col1\" >17210</td>\n",
       "    </tr>\n",
       "    <tr>\n",
       "      <th id=\"T_b87c8_level0_row9\" class=\"row_heading level0 row9\" >12</th>\n",
       "      <td id=\"T_b87c8_row9_col0\" class=\"data row9 col0\" >s</td>\n",
       "      <td id=\"T_b87c8_row9_col1\" class=\"data row9 col1\" >16710</td>\n",
       "    </tr>\n",
       "  </tbody>\n",
       "</table>\n"
      ],
      "text/plain": [
       "<pandas.io.formats.style.Styler at 0x248b539c670>"
      ]
     },
     "execution_count": 9,
     "metadata": {},
     "output_type": "execute_result"
    }
   ],
   "source": [
    "wordsdf.sort_values('count',ascending=False).head(10).style.background_gradient(cmap = 'plasma')"
   ]
  },
  {
   "cell_type": "markdown",
   "id": "contrary-doctrine",
   "metadata": {},
   "source": [
    "### Removing the stopwords"
   ]
  },
  {
   "cell_type": "code",
   "execution_count": 10,
   "id": "convinced-rebound",
   "metadata": {
    "collapsed": true
   },
   "outputs": [
    {
     "name": "stderr",
     "output_type": "stream",
     "text": [
      "[nltk_data] Downloading package stopwords to\n",
      "[nltk_data]     C:\\Users\\Richa\\AppData\\Roaming\\nltk_data...\n",
      "[nltk_data]   Package stopwords is already up-to-date!\n"
     ]
    },
    {
     "data": {
      "text/plain": [
       "'book opens jason awakens school bus unable remember anything past sitting next piper mclean leo valdez call name say girlfriend best friend respectively three part class field trip grand canyon arrive classmate dylan turns venti storm spirit attacks trio trip leader coach gleeson hedge ensuing fight jason surprises everyone including one coins turns sword uses battle storm spirits coach hedge reveals satyr fight taken captive fleeing spirit battle flying chariot arrives rescue trio one people annabeth upset discovers missing boyfriend percy jackson expected annabeth seeking percy told vision goddess hera look guy one shoe turns jason shoe destroyed fight jason piper leo told demigods taken back camp half blood meet greek demigod children like leo revealed son hephaestus piper daughter aphrodite jason son zeus though hera tells champion jason later discovers full brother zeus demigod daughter thalia grace hunter artemis shortly arrive three given quest rescue hera captured set soon discover enemies working orders gaea overthrow gods quest encounter thalia hunters looking percy thalia jason reunite first since jason captured age two way aeolus castle jason leo piper become separated thalia promises meet wolf house last place thalia seen jason meeting nearly apprehended aeolus gaea orders trio manage escape thanks mellie aeolus former assistant end san francisco thanks result dream piper aphrodite landing san francisco trio rush mt diablo fight giant enceladus kidnapped piper father manage kill giant save piper father rush wolf house free hera although heroes hunters save hera king giants porphyrion rises fully disappears hole earth jason memory starts returning remembers hero roman counterpart camp half blood somewhere near san francisco son jupiter zeus roman aspect realizes hera also known juno switched percy jackson roman camp memory life hopes two camps would ultimately work together fight giants defeat goddess gaea'"
      ]
     },
     "execution_count": 10,
     "metadata": {},
     "output_type": "execute_result"
    }
   ],
   "source": [
    "nltk.download('stopwords')\n",
    "from nltk.corpus import stopwords\n",
    "stop_words = set(stopwords.words('english'))\n",
    "\n",
    "# removing the stopwords\n",
    "\n",
    "def removestopwords(text):\n",
    "    \n",
    "    removedstopword = [word for word in text.split() if word not in stop_words]\n",
    "    return ' '.join(removedstopword)\n",
    "\n",
    "books['summary'] = books['summary'].apply(lambda x:removestopwords(x))\n",
    "books['summary'].iloc[1]"
   ]
  },
  {
   "cell_type": "markdown",
   "id": "efficient-purple",
   "metadata": {},
   "source": [
    "## Lemmatizing"
   ]
  },
  {
   "cell_type": "code",
   "execution_count": 11,
   "id": "valued-gather",
   "metadata": {},
   "outputs": [
    {
     "name": "stderr",
     "output_type": "stream",
     "text": [
      "[nltk_data] Downloading package wordnet to\n",
      "[nltk_data]     C:\\Users\\Richa\\AppData\\Roaming\\nltk_data...\n"
     ]
    }
   ],
   "source": [
    "nltk.download('wordnet')\n",
    "from nltk.stem import WordNetLemmatizer\n",
    "\n",
    "lemma=WordNetLemmatizer()\n",
    "\n",
    "def lematizing(sentence):\n",
    "    stemSentence = \"\"\n",
    "    for word in sentence.split():\n",
    "        stem = lemma.lemmatize(word)\n",
    "        stemSentence += stem\n",
    "        stemSentence += \" \"\n",
    "    stemSentence = stemSentence.strip()\n",
    "    return stemSentence\n",
    "\n",
    "\n",
    "books['summary'] = books['summary'].apply(lambda x: lematizing(x))"
   ]
  },
  {
   "cell_type": "markdown",
   "id": "freelance-property",
   "metadata": {},
   "source": [
    "## Stemming "
   ]
  },
  {
   "cell_type": "code",
   "execution_count": 12,
   "id": "excellent-acoustic",
   "metadata": {},
   "outputs": [
    {
     "data": {
      "text/plain": [
       "'book open jason awaken school bu unabl rememb anyth past sit next piper mclean leo valdez call name say girlfriend best friend respect three part class field trip grand canyon arriv classmat dylan turn venti storm spirit attack trio trip leader coach gleeson hedg ensu fight jason surpris everyon includ one coin turn sword us battl storm spirit coach hedg reveal satyr fight taken captiv flee spirit battl fli chariot arriv rescu trio one peopl annabeth upset discov miss boyfriend perci jackson expect annabeth seek perci told vision goddess hera look guy one shoe turn jason shoe destroy fight jason piper leo told demigod taken back camp half blood meet greek demigod child like leo reveal son hephaestu piper daughter aphrodit jason son zeu though hera tell champion jason later discov full brother zeu demigod daughter thalia grace hunter artemi shortli arriv three given quest rescu hera captur set soon discov enemi work order gaea overthrow god quest encount thalia hunter look perci thalia jason reunit first sinc jason captur age two way aeolu castl jason leo piper becom separ thalia promis meet wolf hous last place thalia seen jason meet nearli apprehend aeolu gaea order trio manag escap thank melli aeolu former assist end san francisco thank result dream piper aphrodit land san francisco trio rush mt diablo fight giant enceladu kidnap piper father manag kill giant save piper father rush wolf hous free hera although hero hunter save hera king giant porphyrion rise fulli disappear hole earth jason memori start return rememb hero roman counterpart camp half blood somewher near san francisco son jupit zeu roman aspect realiz hera also known juno switch perci jackson roman camp memori life hope two camp would ultim work togeth fight giant defeat goddess gaea'"
      ]
     },
     "execution_count": 12,
     "metadata": {},
     "output_type": "execute_result"
    }
   ],
   "source": [
    "# Approach \n",
    "\n",
    "from nltk.stem import PorterStemmer\n",
    "stemmer = PorterStemmer()\n",
    "\n",
    "def stemming(sentence):\n",
    "    \n",
    "    stemmed_sentence = \"\"\n",
    "    for word in sentence.split():\n",
    "        stem = stemmer.stem(word)\n",
    "        stemmed_sentence+=stem\n",
    "        stemmed_sentence+=\" \"\n",
    "        \n",
    "    stemmed_sentence = stemmed_sentence.strip()\n",
    "    return stemmed_sentence\n",
    "\n",
    "books['summary'] = books['summary'].apply(lambda text:stemming(text))\n",
    "books['summary'].iloc[1]"
   ]
  },
  {
   "cell_type": "code",
   "execution_count": 13,
   "id": "little-morrison",
   "metadata": {},
   "outputs": [
    {
     "data": {
      "image/png": "[encoded data removed]",
      "text/plain": [
       "<Figure size 700x500 with 1 Axes>"
      ]
     },
     "metadata": {},
     "output_type": "display_data"
    }
   ],
   "source": [
    "# visualising frewords\n",
    "\n",
    "freq_df = showmostfrequentwords(books['summary'],25)"
   ]
  },
  {
   "cell_type": "code",
   "execution_count": 14,
   "id": "simple-waters",
   "metadata": {},
   "outputs": [
    {
     "data": {
      "text/html": [
       "<style type=\"text/css\">\n",
       "#T_95eda_row0_col1 {\n",
       "  background-color: #f0f921;\n",
       "  color: #000000;\n",
       "}\n",
       "#T_95eda_row1_col1 {\n",
       "  background-color: #fdab33;\n",
       "  color: #000000;\n",
       "}\n",
       "#T_95eda_row2_col1 {\n",
       "  background-color: #f58b47;\n",
       "  color: #f1f1f1;\n",
       "}\n",
       "#T_95eda_row3_col1 {\n",
       "  background-color: #a01a9c;\n",
       "  color: #f1f1f1;\n",
       "}\n",
       "#T_95eda_row4_col1 {\n",
       "  background-color: #7801a8;\n",
       "  color: #f1f1f1;\n",
       "}\n",
       "#T_95eda_row5_col1 {\n",
       "  background-color: #6c00a8;\n",
       "  color: #f1f1f1;\n",
       "}\n",
       "#T_95eda_row6_col1 {\n",
       "  background-color: #280592;\n",
       "  color: #f1f1f1;\n",
       "}\n",
       "#T_95eda_row7_col1 {\n",
       "  background-color: #240691;\n",
       "  color: #f1f1f1;\n",
       "}\n",
       "#T_95eda_row8_col1 {\n",
       "  background-color: #16078a;\n",
       "  color: #f1f1f1;\n",
       "}\n",
       "#T_95eda_row9_col1 {\n",
       "  background-color: #0d0887;\n",
       "  color: #f1f1f1;\n",
       "}\n",
       "</style>\n",
       "<table id=\"T_95eda\">\n",
       "  <thead>\n",
       "    <tr>\n",
       "      <th class=\"blank level0\" >&nbsp;</th>\n",
       "      <th id=\"T_95eda_level0_col0\" class=\"col_heading level0 col0\" >word</th>\n",
       "      <th id=\"T_95eda_level0_col1\" class=\"col_heading level0 col1\" >count</th>\n",
       "    </tr>\n",
       "  </thead>\n",
       "  <tbody>\n",
       "    <tr>\n",
       "      <th id=\"T_95eda_level0_row0\" class=\"row_heading level0 row0\" >242</th>\n",
       "      <td id=\"T_95eda_row0_col0\" class=\"data row0 col0\" >one</td>\n",
       "      <td id=\"T_95eda_row0_col1\" class=\"data row0 col1\" >3858</td>\n",
       "    </tr>\n",
       "    <tr>\n",
       "      <th id=\"T_95eda_level0_row1\" class=\"row_heading level0 row1\" >230</th>\n",
       "      <td id=\"T_95eda_row1_col0\" class=\"data row1 col0\" >find</td>\n",
       "      <td id=\"T_95eda_row1_col1\" class=\"data row1 col1\" >3533</td>\n",
       "    </tr>\n",
       "    <tr>\n",
       "      <th id=\"T_95eda_level0_row2\" class=\"row_heading level0 row2\" >240</th>\n",
       "      <td id=\"T_95eda_row2_col0\" class=\"data row2 col0\" >kill</td>\n",
       "      <td id=\"T_95eda_row2_col1\" class=\"data row2 col1\" >3380</td>\n",
       "    </tr>\n",
       "    <tr>\n",
       "      <th id=\"T_95eda_level0_row3\" class=\"row_heading level0 row3\" >153</th>\n",
       "      <td id=\"T_95eda_row3_col0\" class=\"data row3 col0\" >take</td>\n",
       "      <td id=\"T_95eda_row3_col1\" class=\"data row3 col1\" >2743</td>\n",
       "    </tr>\n",
       "    <tr>\n",
       "      <th id=\"T_95eda_level0_row4\" class=\"row_heading level0 row4\" >1143</th>\n",
       "      <td id=\"T_95eda_row4_col0\" class=\"data row4 col0\" >time</td>\n",
       "      <td id=\"T_95eda_row4_col1\" class=\"data row4 col1\" >2563</td>\n",
       "    </tr>\n",
       "    <tr>\n",
       "      <th id=\"T_95eda_level0_row5\" class=\"row_heading level0 row5\" >88</th>\n",
       "      <td id=\"T_95eda_row5_col0\" class=\"data row5 col0\" >go</td>\n",
       "      <td id=\"T_95eda_row5_col1\" class=\"data row5 col1\" >2509</td>\n",
       "    </tr>\n",
       "    <tr>\n",
       "      <th id=\"T_95eda_level0_row6\" class=\"row_heading level0 row6\" >38</th>\n",
       "      <td id=\"T_95eda_row6_col0\" class=\"data row6 col0\" >two</td>\n",
       "      <td id=\"T_95eda_row6_col1\" class=\"data row6 col1\" >2235</td>\n",
       "    </tr>\n",
       "    <tr>\n",
       "      <th id=\"T_95eda_level0_row7\" class=\"row_heading level0 row7\" >418</th>\n",
       "      <td id=\"T_95eda_row7_col0\" class=\"data row7 col0\" >life</td>\n",
       "      <td id=\"T_95eda_row7_col1\" class=\"data row7 col1\" >2224</td>\n",
       "    </tr>\n",
       "    <tr>\n",
       "      <th id=\"T_95eda_level0_row8\" class=\"row_heading level0 row8\" >415</th>\n",
       "      <td id=\"T_95eda_row8_col0\" class=\"data row8 col0\" >also</td>\n",
       "      <td id=\"T_95eda_row8_col1\" class=\"data row8 col1\" >2179</td>\n",
       "    </tr>\n",
       "    <tr>\n",
       "      <th id=\"T_95eda_level0_row9\" class=\"row_heading level0 row9\" >407</th>\n",
       "      <td id=\"T_95eda_row9_col0\" class=\"data row9 col0\" >return</td>\n",
       "      <td id=\"T_95eda_row9_col1\" class=\"data row9 col1\" >2158</td>\n",
       "    </tr>\n",
       "  </tbody>\n",
       "</table>\n"
      ],
      "text/plain": [
       "<pandas.io.formats.style.Styler at 0x248bebd3190>"
      ]
     },
     "execution_count": 14,
     "metadata": {},
     "output_type": "execute_result"
    }
   ],
   "source": [
    "freq_df.sort_values('count',ascending=False).head(10).style.background_gradient(cmap = 'plasma')"
   ]
  },
  {
   "cell_type": "markdown",
   "id": "acute-membrane",
   "metadata": {},
   "source": [
    "##  Encoding"
   ]
  },
  {
   "cell_type": "code",
   "execution_count": 15,
   "id": "cultural-compiler",
   "metadata": {},
   "outputs": [
    {
     "name": "stdout",
     "output_type": "stream",
     "text": [
      "{'Fantasy': 0, 'Science Fiction': 1, 'Crime Fiction': 2, 'Historical novel': 3, 'Horror': 4, 'Thriller': 5}\n"
     ]
    }
   ],
   "source": [
    "books_list = list(books['genre'].unique())\n",
    "encode = [i for i in range(len(books_list))]\n",
    "mapper = dict(zip(books_list,encode))\n",
    "print(mapper)"
   ]
  },
  {
   "cell_type": "code",
   "execution_count": 16,
   "id": "abroad-liberia",
   "metadata": {},
   "outputs": [
    {
     "data": {
      "text/plain": [
       "array([0, 1, 2, 3, 4, 5], dtype=int64)"
      ]
     },
     "execution_count": 16,
     "metadata": {},
     "output_type": "execute_result"
    }
   ],
   "source": [
    "books['genre'] = books['genre'].map(mapper)\n",
    "books['genre'].unique()"
   ]
  },
  {
   "cell_type": "markdown",
   "id": "mediterranean-owner",
   "metadata": {},
   "source": [
    "## Model Building"
   ]
  },
  {
   "cell_type": "code",
   "execution_count": 17,
   "id": "municipal-farmer",
   "metadata": {
    "scrolled": true
   },
   "outputs": [
    {
     "data": {
      "text/plain": [
       "<3000x1000 sparse matrix of type '<class 'numpy.int64'>'\n",
       "\twith 245387 stored elements in Compressed Sparse Row format>"
      ]
     },
     "execution_count": 17,
     "metadata": {},
     "output_type": "execute_result"
    }
   ],
   "source": [
    "## count vectorizer\n",
    "\n",
    "count_vec = CountVectorizer(max_df=0.90,min_df=2,\n",
    "                           max_features=1000,stop_words='english')\n",
    "\n",
    "bagofword_vec = count_vec.fit_transform(books['summary'])\n",
    "bagofword_vec"
   ]
  },
  {
   "cell_type": "code",
   "execution_count": 18,
   "id": "federal-glance",
   "metadata": {},
   "outputs": [
    {
     "data": {
      "text/plain": [
       "((2400, 1000), (600, 1000))"
      ]
     },
     "execution_count": 18,
     "metadata": {},
     "output_type": "execute_result"
    }
   ],
   "source": [
    "test = books['genre']\n",
    "X_train, X_test, y_train, y_test = train_test_split(bagofword_vec,test,\n",
    "                                                    test_size=0.2)\n",
    "X_train.shape,X_test.shape"
   ]
  },
  {
   "cell_type": "code",
   "execution_count": 19,
   "id": "handled-rolling",
   "metadata": {},
   "outputs": [
    {
     "name": "stdout",
     "output_type": "stream",
     "text": [
      "0.5783333333333334\n"
     ]
    }
   ],
   "source": [
    "svc = SVC()\n",
    "svc.fit(X_train,y_train)\n",
    "svccpred = svc.predict(X_test)\n",
    "print(metrics.accuracy_score(y_test,svccpred))"
   ]
  },
  {
   "cell_type": "code",
   "execution_count": 20,
   "id": "trained-peeing",
   "metadata": {},
   "outputs": [
    {
     "name": "stdout",
     "output_type": "stream",
     "text": [
      "0.6733333333333333\n"
     ]
    }
   ],
   "source": [
    "mb = MultinomialNB()\n",
    "mb.fit(X_train,y_train)\n",
    "mbpred = mb.predict(X_test)\n",
    "print(metrics.accuracy_score(y_test,mbpred))"
   ]
  },
  {
   "cell_type": "code",
   "execution_count": 21,
   "id": "medium-peeing",
   "metadata": {},
   "outputs": [
    {
     "name": "stdout",
     "output_type": "stream",
     "text": [
      "0.6416666666666667\n"
     ]
    }
   ],
   "source": [
    "rf = RandomForestClassifier()\n",
    "rf.fit(X_train,y_train)\n",
    "print(metrics.accuracy_score(y_test,rf.predict(X_test)))"
   ]
  },
  {
   "cell_type": "markdown",
   "id": "theoretical-indicator",
   "metadata": {},
   "source": [
    "## Part 2 Model Building\n",
    "\n",
    " + Changing from Countvectorizer to TFDIF vectorizer"
   ]
  },
  {
   "cell_type": "code",
   "execution_count": 22,
   "id": "comparative-shuttle",
   "metadata": {},
   "outputs": [
    {
     "data": {
      "text/plain": [
       "((2400,), (600,))"
      ]
     },
     "execution_count": 22,
     "metadata": {},
     "output_type": "execute_result"
    }
   ],
   "source": [
    "#Labeling each 'genre' with an unique number \n",
    "\n",
    "from sklearn.preprocessing import LabelEncoder\n",
    "le = LabelEncoder()\n",
    "y=le.fit_transform(books['genre'])\n",
    "\n",
    "X_train,X_test,y_train,y_test = train_test_split(books['summary']\n",
    "                                                ,y,test_size=0.2,\n",
    "                                                random_state=557)\n",
    "\n",
    "X_train.shape,X_test.shape"
   ]
  },
  {
   "cell_type": "code",
   "execution_count": 23,
   "id": "connected-coach",
   "metadata": {},
   "outputs": [],
   "source": [
    "#Performing tf-idf \n",
    "\n",
    "tfidf_vectorizer = TfidfVectorizer(max_df=0.8, max_features=10000)\n",
    "xtrain_tfidf = tfidf_vectorizer.fit_transform(X_train.values.astype('U'))\n",
    "xtest_tfidf = tfidf_vectorizer.transform(X_test.values.astype('U'))"
   ]
  },
  {
   "cell_type": "code",
   "execution_count": 24,
   "id": "swedish-generator",
   "metadata": {},
   "outputs": [
    {
     "name": "stdout",
     "output_type": "stream",
     "text": [
      "0.775\n"
     ]
    }
   ],
   "source": [
    "svc = SVC()\n",
    "svc.fit(xtrain_tfidf,y_train)\n",
    "svccpred = svc.predict(xtest_tfidf)\n",
    "print(metrics.accuracy_score(y_test,svccpred))"
   ]
  },
  {
   "cell_type": "code",
   "execution_count": 25,
   "id": "intended-framing",
   "metadata": {},
   "outputs": [
    {
     "name": "stdout",
     "output_type": "stream",
     "text": [
      "0.78\n"
     ]
    }
   ],
   "source": [
    "mb = MultinomialNB()\n",
    "mb.fit(xtrain_tfidf,y_train)\n",
    "mbpred = mb.predict(xtest_tfidf)\n",
    "print(metrics.accuracy_score(y_test,mbpred))"
   ]
  },
  {
   "cell_type": "markdown",
   "id": "ultimate-worcester",
   "metadata": {},
   "source": [
    "## Testing the Model"
   ]
  },
  {
   "cell_type": "code",
   "execution_count": 26,
   "id": "shared-naples",
   "metadata": {},
   "outputs": [
    {
     "data": {
      "text/plain": [
       "0       [0]\n",
       "1       [0]\n",
       "2       [0]\n",
       "3       [0]\n",
       "4       [0]\n",
       "       ... \n",
       "2995    [1]\n",
       "2996    [5]\n",
       "2997    [5]\n",
       "2998    [5]\n",
       "2999    [5]\n",
       "Name: summary, Length: 3000, dtype: object"
      ]
     },
     "execution_count": 26,
     "metadata": {},
     "output_type": "execute_result"
    }
   ],
   "source": [
    "def test(text,model):\n",
    "    \n",
    "    text = cleantext(text)\n",
    "    text = removestopwords(text)\n",
    "    text = lematizing(text)\n",
    "    text = stemming(text)\n",
    "    \n",
    "    text_vector = tfidf_vectorizer.transform([text])\n",
    "    predicted = model.predict(text_vector)\n",
    "    return predicted\n",
    "\n",
    "\n",
    "\n",
    "ans = books['summary'].apply(lambda text:test(text,mb))\n",
    "\n",
    "# printing the \n",
    "# print(list(mapper.keys())[list(mapper.values()).index(ans)])\n",
    "\n",
    "ans"
   ]
  },
  {
   "cell_type": "code",
   "execution_count": 27,
   "id": "challenging-texture",
   "metadata": {},
   "outputs": [],
   "source": [
    "predicted_genres = []\n",
    "for i in range(len(ans)):\n",
    "    \n",
    "    index_val = ans[i][0]\n",
    "    predicted_genres.append(list(mapper.keys())[list(mapper.values()).index(index_val)])\n",
    "    "
   ]
  },
  {
   "cell_type": "code",
   "execution_count": 28,
   "id": "outstanding-current",
   "metadata": {},
   "outputs": [
    {
     "data": {
      "text/plain": [
       "{'Fantasy': 0,\n",
       " 'Science Fiction': 1,\n",
       " 'Crime Fiction': 2,\n",
       " 'Historical novel': 3,\n",
       " 'Horror': 4,\n",
       " 'Thriller': 5}"
      ]
     },
     "execution_count": 28,
     "metadata": {},
     "output_type": "execute_result"
    }
   ],
   "source": [
    "mapper"
   ]
  },
  {
   "cell_type": "code",
   "execution_count": 29,
   "id": "stable-publisher",
   "metadata": {
    "scrolled": true
   },
   "outputs": [
    {
     "data": {
      "text/plain": [
       "{0: 'Fantasy',\n",
       " 1: 'Science Fiction',\n",
       " 2: 'Crime Fiction',\n",
       " 3: 'Historical novel',\n",
       " 4: 'Horror',\n",
       " 5: 'Thriller'}"
      ]
     },
     "execution_count": 29,
     "metadata": {},
     "output_type": "execute_result"
    }
   ],
   "source": [
    "## mapping the training genre as well\n",
    "\n",
    "newmap = dict([(value,key) for key,value in mapper.items()])\n",
    "newmap"
   ]
  },
  {
   "cell_type": "code",
   "execution_count": 30,
   "id": "quick-illinois",
   "metadata": {},
   "outputs": [
    {
     "name": "stdout",
     "output_type": "stream",
     "text": [
      "{0: 'Fantasy', 1: 'Science Fiction', 2: 'Crime Fiction', 3: 'Historical novel', 4: 'Horror', 5: 'Thriller'}\n"
     ]
    }
   ],
   "source": [
    "print(newmap)"
   ]
  },
  {
   "cell_type": "code",
   "execution_count": 31,
   "id": "local-protection",
   "metadata": {},
   "outputs": [
    {
     "data": {
      "text/html": [
       "<div>\n",
       "<style scoped>\n",
       "    .dataframe tbody tr th:only-of-type {\n",
       "        vertical-align: middle;\n",
       "    }\n",
       "\n",
       "    .dataframe tbody tr th {\n",
       "        vertical-align: top;\n",
       "    }\n",
       "\n",
       "    .dataframe thead th {\n",
       "        text-align: right;\n",
       "    }\n",
       "</style>\n",
       "<table border=\"1\" class=\"dataframe\">\n",
       "  <thead>\n",
       "    <tr style=\"text-align: right;\">\n",
       "      <th></th>\n",
       "      <th>book_id</th>\n",
       "      <th>book_name</th>\n",
       "      <th>genre</th>\n",
       "      <th>summary</th>\n",
       "      <th>Actual Genre</th>\n",
       "      <th>Predicted_genre</th>\n",
       "    </tr>\n",
       "  </thead>\n",
       "  <tbody>\n",
       "    <tr>\n",
       "      <th>0</th>\n",
       "      <td>3248537</td>\n",
       "      <td>Drowned Wednesday</td>\n",
       "      <td>0</td>\n",
       "      <td>drown wednesday first truste among morrow day ...</td>\n",
       "      <td>Fantasy</td>\n",
       "      <td>Fantasy</td>\n",
       "    </tr>\n",
       "    <tr>\n",
       "      <th>1</th>\n",
       "      <td>27796919</td>\n",
       "      <td>The Lost Hero</td>\n",
       "      <td>0</td>\n",
       "      <td>book open jason awaken school bu unabl rememb ...</td>\n",
       "      <td>Fantasy</td>\n",
       "      <td>Fantasy</td>\n",
       "    </tr>\n",
       "    <tr>\n",
       "      <th>2</th>\n",
       "      <td>3910776</td>\n",
       "      <td>The Eyes of the Overworld</td>\n",
       "      <td>0</td>\n",
       "      <td>cugel easili persuad merchant fianosth attempt...</td>\n",
       "      <td>Fantasy</td>\n",
       "      <td>Fantasy</td>\n",
       "    </tr>\n",
       "    <tr>\n",
       "      <th>3</th>\n",
       "      <td>5969644</td>\n",
       "      <td>Magic's Promise</td>\n",
       "      <td>0</td>\n",
       "      <td>book open herald mage vanyel return countri va...</td>\n",
       "      <td>Fantasy</td>\n",
       "      <td>Fantasy</td>\n",
       "    </tr>\n",
       "    <tr>\n",
       "      <th>4</th>\n",
       "      <td>3173445</td>\n",
       "      <td>Taran Wanderer</td>\n",
       "      <td>0</td>\n",
       "      <td>taran gurgi return caer dallben follow event t...</td>\n",
       "      <td>Fantasy</td>\n",
       "      <td>Fantasy</td>\n",
       "    </tr>\n",
       "  </tbody>\n",
       "</table>\n",
       "</div>"
      ],
      "text/plain": [
       "    book_id                  book_name  genre  \\\n",
       "0   3248537          Drowned Wednesday      0   \n",
       "1  27796919              The Lost Hero      0   \n",
       "2   3910776  The Eyes of the Overworld      0   \n",
       "3   5969644            Magic's Promise      0   \n",
       "4   3173445             Taran Wanderer      0   \n",
       "\n",
       "                                             summary Actual Genre  \\\n",
       "0  drown wednesday first truste among morrow day ...      Fantasy   \n",
       "1  book open jason awaken school bu unabl rememb ...      Fantasy   \n",
       "2  cugel easili persuad merchant fianosth attempt...      Fantasy   \n",
       "3  book open herald mage vanyel return countri va...      Fantasy   \n",
       "4  taran gurgi return caer dallben follow event t...      Fantasy   \n",
       "\n",
       "  Predicted_genre  \n",
       "0         Fantasy  \n",
       "1         Fantasy  \n",
       "2         Fantasy  \n",
       "3         Fantasy  \n",
       "4         Fantasy  "
      ]
     },
     "execution_count": 31,
     "metadata": {},
     "output_type": "execute_result"
    }
   ],
   "source": [
    "books['Actual Genre'] = books['genre'].map(newmap)\n",
    "books['Predicted_genre'] = np.array(predicted_genres)\n",
    "books.head()"
   ]
  },
  {
   "cell_type": "code",
   "execution_count": 32,
   "id": "sound-milwaukee",
   "metadata": {
    "scrolled": true
   },
   "outputs": [
    {
     "data": {
      "text/html": [
       "<div>\n",
       "<style scoped>\n",
       "    .dataframe tbody tr th:only-of-type {\n",
       "        vertical-align: middle;\n",
       "    }\n",
       "\n",
       "    .dataframe tbody tr th {\n",
       "        vertical-align: top;\n",
       "    }\n",
       "\n",
       "    .dataframe thead th {\n",
       "        text-align: right;\n",
       "    }\n",
       "</style>\n",
       "<table border=\"1\" class=\"dataframe\">\n",
       "  <thead>\n",
       "    <tr style=\"text-align: right;\">\n",
       "      <th></th>\n",
       "      <th>book_name</th>\n",
       "      <th>summary</th>\n",
       "      <th>Actual Genre</th>\n",
       "      <th>Predicted_genre</th>\n",
       "    </tr>\n",
       "  </thead>\n",
       "  <tbody>\n",
       "    <tr>\n",
       "      <th>0</th>\n",
       "      <td>Drowned Wednesday</td>\n",
       "      <td>drown wednesday first truste among morrow day ...</td>\n",
       "      <td>Fantasy</td>\n",
       "      <td>Fantasy</td>\n",
       "    </tr>\n",
       "    <tr>\n",
       "      <th>1</th>\n",
       "      <td>The Lost Hero</td>\n",
       "      <td>book open jason awaken school bu unabl rememb ...</td>\n",
       "      <td>Fantasy</td>\n",
       "      <td>Fantasy</td>\n",
       "    </tr>\n",
       "    <tr>\n",
       "      <th>2</th>\n",
       "      <td>The Eyes of the Overworld</td>\n",
       "      <td>cugel easili persuad merchant fianosth attempt...</td>\n",
       "      <td>Fantasy</td>\n",
       "      <td>Fantasy</td>\n",
       "    </tr>\n",
       "    <tr>\n",
       "      <th>3</th>\n",
       "      <td>Magic's Promise</td>\n",
       "      <td>book open herald mage vanyel return countri va...</td>\n",
       "      <td>Fantasy</td>\n",
       "      <td>Fantasy</td>\n",
       "    </tr>\n",
       "    <tr>\n",
       "      <th>4</th>\n",
       "      <td>Taran Wanderer</td>\n",
       "      <td>taran gurgi return caer dallben follow event t...</td>\n",
       "      <td>Fantasy</td>\n",
       "      <td>Fantasy</td>\n",
       "    </tr>\n",
       "    <tr>\n",
       "      <th>...</th>\n",
       "      <td>...</td>\n",
       "      <td>...</td>\n",
       "      <td>...</td>\n",
       "      <td>...</td>\n",
       "    </tr>\n",
       "    <tr>\n",
       "      <th>2995</th>\n",
       "      <td>White Death</td>\n",
       "      <td>novel numa file kurt austin adventur novel mai...</td>\n",
       "      <td>Thriller</td>\n",
       "      <td>Science Fiction</td>\n",
       "    </tr>\n",
       "    <tr>\n",
       "      <th>2996</th>\n",
       "      <td>Venus with Pistol</td>\n",
       "      <td>gilbert kemp dealer special antiqu gun london ...</td>\n",
       "      <td>Thriller</td>\n",
       "      <td>Thriller</td>\n",
       "    </tr>\n",
       "    <tr>\n",
       "      <th>2997</th>\n",
       "      <td>Blackwater</td>\n",
       "      <td>know deep davey alway live shadow older brothe...</td>\n",
       "      <td>Thriller</td>\n",
       "      <td>Thriller</td>\n",
       "    </tr>\n",
       "    <tr>\n",
       "      <th>2998</th>\n",
       "      <td>The Rainbow and the Rose</td>\n",
       "      <td>stori concern life johnni pasco retir commerci...</td>\n",
       "      <td>Thriller</td>\n",
       "      <td>Thriller</td>\n",
       "    </tr>\n",
       "    <tr>\n",
       "      <th>2999</th>\n",
       "      <td>Chiefs</td>\n",
       "      <td>first chief henri lee novel open grow town del...</td>\n",
       "      <td>Thriller</td>\n",
       "      <td>Thriller</td>\n",
       "    </tr>\n",
       "  </tbody>\n",
       "</table>\n",
       "<p>3000 rows × 4 columns</p>\n",
       "</div>"
      ],
      "text/plain": [
       "                      book_name  \\\n",
       "0             Drowned Wednesday   \n",
       "1                 The Lost Hero   \n",
       "2     The Eyes of the Overworld   \n",
       "3               Magic's Promise   \n",
       "4                Taran Wanderer   \n",
       "...                         ...   \n",
       "2995                White Death   \n",
       "2996          Venus with Pistol   \n",
       "2997                 Blackwater   \n",
       "2998   The Rainbow and the Rose   \n",
       "2999                     Chiefs   \n",
       "\n",
       "                                                summary Actual Genre  \\\n",
       "0     drown wednesday first truste among morrow day ...      Fantasy   \n",
       "1     book open jason awaken school bu unabl rememb ...      Fantasy   \n",
       "2     cugel easili persuad merchant fianosth attempt...      Fantasy   \n",
       "3     book open herald mage vanyel return countri va...      Fantasy   \n",
       "4     taran gurgi return caer dallben follow event t...      Fantasy   \n",
       "...                                                 ...          ...   \n",
       "2995  novel numa file kurt austin adventur novel mai...     Thriller   \n",
       "2996  gilbert kemp dealer special antiqu gun london ...     Thriller   \n",
       "2997  know deep davey alway live shadow older brothe...     Thriller   \n",
       "2998  stori concern life johnni pasco retir commerci...     Thriller   \n",
       "2999  first chief henri lee novel open grow town del...     Thriller   \n",
       "\n",
       "      Predicted_genre  \n",
       "0             Fantasy  \n",
       "1             Fantasy  \n",
       "2             Fantasy  \n",
       "3             Fantasy  \n",
       "4             Fantasy  \n",
       "...               ...  \n",
       "2995  Science Fiction  \n",
       "2996         Thriller  \n",
       "2997         Thriller  \n",
       "2998         Thriller  \n",
       "2999         Thriller  \n",
       "\n",
       "[3000 rows x 4 columns]"
      ]
     },
     "execution_count": 32,
     "metadata": {},
     "output_type": "execute_result"
    }
   ],
   "source": [
    "books = books[['book_name','summary','Actual Genre','Predicted_genre']]\n",
    "books"
   ]
  },
  {
   "cell_type": "code",
   "execution_count": 33,
   "id": "unauthorized-librarian",
   "metadata": {},
   "outputs": [
    {
     "data": {
      "text/plain": [
       "{'Fantasy': 500,\n",
       " 'Science Fiction': 500,\n",
       " 'Crime Fiction': 500,\n",
       " 'Historical novel': 500,\n",
       " 'Horror': 500,\n",
       " 'Thriller': 500}"
      ]
     },
     "execution_count": 33,
     "metadata": {},
     "output_type": "execute_result"
    }
   ],
   "source": [
    "dict(Counter(books['Actual Genre'].values))"
   ]
  },
  {
   "cell_type": "code",
   "execution_count": 34,
   "id": "cooperative-kansas",
   "metadata": {},
   "outputs": [
    {
     "data": {
      "text/plain": [
       "{'Fantasy': 462,\n",
       " 'Science Fiction': 536,\n",
       " 'Thriller': 477,\n",
       " 'Horror': 504,\n",
       " 'Historical novel': 501,\n",
       " 'Crime Fiction': 520}"
      ]
     },
     "execution_count": 34,
     "metadata": {},
     "output_type": "execute_result"
    }
   ],
   "source": [
    "dict(Counter(books['Predicted_genre'].values))"
   ]
  },
  {
   "cell_type": "code",
   "execution_count": 35,
   "id": "organizational-kruger",
   "metadata": {},
   "outputs": [
    {
     "ename": "ValueError",
     "evalue": "rotation must be 'vertical', 'horizontal' or a number, not 45",
     "output_type": "error",
     "traceback": [
      "\u001b[1;31m---------------------------------------------------------------------------\u001b[0m",
      "\u001b[1;31mValueError\u001b[0m                                Traceback (most recent call last)",
      "Cell \u001b[1;32mIn[35], line 2\u001b[0m\n\u001b[0;32m      1\u001b[0m sn\u001b[38;5;241m.\u001b[39mcountplot(x \u001b[38;5;241m=\u001b[39m books[\u001b[38;5;124m'\u001b[39m\u001b[38;5;124mPredicted_genre\u001b[39m\u001b[38;5;124m'\u001b[39m])\n\u001b[1;32m----> 2\u001b[0m \u001b[43mplt\u001b[49m\u001b[38;5;241;43m.\u001b[39;49m\u001b[43mxticks\u001b[49m\u001b[43m(\u001b[49m\u001b[43mrotation\u001b[49m\u001b[43m \u001b[49m\u001b[38;5;241;43m=\u001b[39;49m\u001b[43m \u001b[49m\u001b[38;5;124;43m'\u001b[39;49m\u001b[38;5;124;43m45\u001b[39;49m\u001b[38;5;124;43m'\u001b[39;49m\u001b[43m)\u001b[49m\n",
      "File \u001b[1;32mc:\\Users\\Richa\\anaconda3\\lib\\site-packages\\matplotlib\\pyplot.py:2051\u001b[0m, in \u001b[0;36mxticks\u001b[1;34m(ticks, labels, minor, **kwargs)\u001b[0m\n\u001b[0;32m   2049\u001b[0m     labels_out \u001b[38;5;241m=\u001b[39m ax\u001b[38;5;241m.\u001b[39mget_xticklabels(minor\u001b[38;5;241m=\u001b[39mminor)\n\u001b[0;32m   2050\u001b[0m     \u001b[38;5;28;01mfor\u001b[39;00m l \u001b[38;5;129;01min\u001b[39;00m labels_out:\n\u001b[1;32m-> 2051\u001b[0m         \u001b[43ml\u001b[49m\u001b[38;5;241;43m.\u001b[39;49m\u001b[43m_internal_update\u001b[49m\u001b[43m(\u001b[49m\u001b[43mkwargs\u001b[49m\u001b[43m)\u001b[49m\n\u001b[0;32m   2052\u001b[0m \u001b[38;5;28;01melse\u001b[39;00m:\n\u001b[0;32m   2053\u001b[0m     labels_out \u001b[38;5;241m=\u001b[39m ax\u001b[38;5;241m.\u001b[39mset_xticklabels(labels, minor\u001b[38;5;241m=\u001b[39mminor, \u001b[38;5;241m*\u001b[39m\u001b[38;5;241m*\u001b[39mkwargs)\n",
      "File \u001b[1;32mc:\\Users\\Richa\\anaconda3\\lib\\site-packages\\matplotlib\\artist.py:1219\u001b[0m, in \u001b[0;36mArtist._internal_update\u001b[1;34m(self, kwargs)\u001b[0m\n\u001b[0;32m   1212\u001b[0m \u001b[38;5;28;01mdef\u001b[39;00m \u001b[38;5;21m_internal_update\u001b[39m(\u001b[38;5;28mself\u001b[39m, kwargs):\n\u001b[0;32m   1213\u001b[0m \u001b[38;5;250m    \u001b[39m\u001b[38;5;124;03m\"\"\"\u001b[39;00m\n\u001b[0;32m   1214\u001b[0m \u001b[38;5;124;03m    Update artist properties without prenormalizing them, but generating\u001b[39;00m\n\u001b[0;32m   1215\u001b[0m \u001b[38;5;124;03m    errors as if calling `set`.\u001b[39;00m\n\u001b[0;32m   1216\u001b[0m \n\u001b[0;32m   1217\u001b[0m \u001b[38;5;124;03m    The lack of prenormalization is to maintain backcompatibility.\u001b[39;00m\n\u001b[0;32m   1218\u001b[0m \u001b[38;5;124;03m    \"\"\"\u001b[39;00m\n\u001b[1;32m-> 1219\u001b[0m     \u001b[38;5;28;01mreturn\u001b[39;00m \u001b[38;5;28;43mself\u001b[39;49m\u001b[38;5;241;43m.\u001b[39;49m\u001b[43m_update_props\u001b[49m\u001b[43m(\u001b[49m\n\u001b[0;32m   1220\u001b[0m \u001b[43m        \u001b[49m\u001b[43mkwargs\u001b[49m\u001b[43m,\u001b[49m\u001b[43m \u001b[49m\u001b[38;5;124;43m\"\u001b[39;49m\u001b[38;5;132;43;01m{cls.__name__}\u001b[39;49;00m\u001b[38;5;124;43m.set() got an unexpected keyword argument \u001b[39;49m\u001b[38;5;124;43m\"\u001b[39;49m\n\u001b[0;32m   1221\u001b[0m \u001b[43m        \u001b[49m\u001b[38;5;124;43m\"\u001b[39;49m\u001b[38;5;132;43;01m{prop_name!r}\u001b[39;49;00m\u001b[38;5;124;43m\"\u001b[39;49m\u001b[43m)\u001b[49m\n",
      "File \u001b[1;32mc:\\Users\\Richa\\anaconda3\\lib\\site-packages\\matplotlib\\artist.py:1195\u001b[0m, in \u001b[0;36mArtist._update_props\u001b[1;34m(self, props, errfmt)\u001b[0m\n\u001b[0;32m   1192\u001b[0m             \u001b[38;5;28;01mif\u001b[39;00m \u001b[38;5;129;01mnot\u001b[39;00m \u001b[38;5;28mcallable\u001b[39m(func):\n\u001b[0;32m   1193\u001b[0m                 \u001b[38;5;28;01mraise\u001b[39;00m \u001b[38;5;167;01mAttributeError\u001b[39;00m(\n\u001b[0;32m   1194\u001b[0m                     errfmt\u001b[38;5;241m.\u001b[39mformat(\u001b[38;5;28mcls\u001b[39m\u001b[38;5;241m=\u001b[39m\u001b[38;5;28mtype\u001b[39m(\u001b[38;5;28mself\u001b[39m), prop_name\u001b[38;5;241m=\u001b[39mk))\n\u001b[1;32m-> 1195\u001b[0m             ret\u001b[38;5;241m.\u001b[39mappend(\u001b[43mfunc\u001b[49m\u001b[43m(\u001b[49m\u001b[43mv\u001b[49m\u001b[43m)\u001b[49m)\n\u001b[0;32m   1196\u001b[0m \u001b[38;5;28;01mif\u001b[39;00m ret:\n\u001b[0;32m   1197\u001b[0m     \u001b[38;5;28mself\u001b[39m\u001b[38;5;241m.\u001b[39mpchanged()\n",
      "File \u001b[1;32mc:\\Users\\Richa\\anaconda3\\lib\\site-packages\\matplotlib\\text.py:1231\u001b[0m, in \u001b[0;36mText.set_rotation\u001b[1;34m(self, s)\u001b[0m\n\u001b[0;32m   1229\u001b[0m     \u001b[38;5;28mself\u001b[39m\u001b[38;5;241m.\u001b[39m_rotation \u001b[38;5;241m=\u001b[39m \u001b[38;5;241m90.\u001b[39m\n\u001b[0;32m   1230\u001b[0m \u001b[38;5;28;01melse\u001b[39;00m:\n\u001b[1;32m-> 1231\u001b[0m     \u001b[38;5;28;01mraise\u001b[39;00m \u001b[38;5;167;01mValueError\u001b[39;00m(\u001b[38;5;124m\"\u001b[39m\u001b[38;5;124mrotation must be \u001b[39m\u001b[38;5;124m'\u001b[39m\u001b[38;5;124mvertical\u001b[39m\u001b[38;5;124m'\u001b[39m\u001b[38;5;124m, \u001b[39m\u001b[38;5;124m'\u001b[39m\u001b[38;5;124mhorizontal\u001b[39m\u001b[38;5;124m'\u001b[39m\u001b[38;5;124m or \u001b[39m\u001b[38;5;124m\"\u001b[39m\n\u001b[0;32m   1232\u001b[0m                      \u001b[38;5;124mf\u001b[39m\u001b[38;5;124m\"\u001b[39m\u001b[38;5;124ma number, not \u001b[39m\u001b[38;5;132;01m{\u001b[39;00ms\u001b[38;5;132;01m}\u001b[39;00m\u001b[38;5;124m\"\u001b[39m)\n\u001b[0;32m   1233\u001b[0m \u001b[38;5;28mself\u001b[39m\u001b[38;5;241m.\u001b[39mstale \u001b[38;5;241m=\u001b[39m \u001b[38;5;28;01mTrue\u001b[39;00m\n",
      "\u001b[1;31mValueError\u001b[0m: rotation must be 'vertical', 'horizontal' or a number, not 45"
     ]
    },
    {
     "data": {
      "image/png": "[encoded data removed]",
      "text/plain": [
       "<Figure size 640x480 with 1 Axes>"
      ]
     },
     "metadata": {},
     "output_type": "display_data"
    }
   ],
   "source": [
    "sn.countplot(x = books['Predicted_genre'])\n",
    "plt.xticks(rotation = '45')"
   ]
  },
  {
   "cell_type": "code",
   "execution_count": 36,
   "id": "nonprofit-zimbabwe",
   "metadata": {},
   "outputs": [
    {
     "ename": "ValueError",
     "evalue": "rotation must be 'vertical', 'horizontal' or a number, not 45",
     "output_type": "error",
     "traceback": [
      "\u001b[1;31m---------------------------------------------------------------------------\u001b[0m",
      "\u001b[1;31mValueError\u001b[0m                                Traceback (most recent call last)",
      "Cell \u001b[1;32mIn[36], line 2\u001b[0m\n\u001b[0;32m      1\u001b[0m sn\u001b[38;5;241m.\u001b[39mcountplot(x \u001b[38;5;241m=\u001b[39m books[\u001b[38;5;124m'\u001b[39m\u001b[38;5;124mActual Genre\u001b[39m\u001b[38;5;124m'\u001b[39m])\n\u001b[1;32m----> 2\u001b[0m \u001b[43mplt\u001b[49m\u001b[38;5;241;43m.\u001b[39;49m\u001b[43mxticks\u001b[49m\u001b[43m(\u001b[49m\u001b[43mrotation\u001b[49m\u001b[43m \u001b[49m\u001b[38;5;241;43m=\u001b[39;49m\u001b[43m \u001b[49m\u001b[38;5;124;43m'\u001b[39;49m\u001b[38;5;124;43m45\u001b[39;49m\u001b[38;5;124;43m'\u001b[39;49m\u001b[43m)\u001b[49m\n",
      "File \u001b[1;32mc:\\Users\\Richa\\anaconda3\\lib\\site-packages\\matplotlib\\pyplot.py:2051\u001b[0m, in \u001b[0;36mxticks\u001b[1;34m(ticks, labels, minor, **kwargs)\u001b[0m\n\u001b[0;32m   2049\u001b[0m     labels_out \u001b[38;5;241m=\u001b[39m ax\u001b[38;5;241m.\u001b[39mget_xticklabels(minor\u001b[38;5;241m=\u001b[39mminor)\n\u001b[0;32m   2050\u001b[0m     \u001b[38;5;28;01mfor\u001b[39;00m l \u001b[38;5;129;01min\u001b[39;00m labels_out:\n\u001b[1;32m-> 2051\u001b[0m         \u001b[43ml\u001b[49m\u001b[38;5;241;43m.\u001b[39;49m\u001b[43m_internal_update\u001b[49m\u001b[43m(\u001b[49m\u001b[43mkwargs\u001b[49m\u001b[43m)\u001b[49m\n\u001b[0;32m   2052\u001b[0m \u001b[38;5;28;01melse\u001b[39;00m:\n\u001b[0;32m   2053\u001b[0m     labels_out \u001b[38;5;241m=\u001b[39m ax\u001b[38;5;241m.\u001b[39mset_xticklabels(labels, minor\u001b[38;5;241m=\u001b[39mminor, \u001b[38;5;241m*\u001b[39m\u001b[38;5;241m*\u001b[39mkwargs)\n",
      "File \u001b[1;32mc:\\Users\\Richa\\anaconda3\\lib\\site-packages\\matplotlib\\artist.py:1219\u001b[0m, in \u001b[0;36mArtist._internal_update\u001b[1;34m(self, kwargs)\u001b[0m\n\u001b[0;32m   1212\u001b[0m \u001b[38;5;28;01mdef\u001b[39;00m \u001b[38;5;21m_internal_update\u001b[39m(\u001b[38;5;28mself\u001b[39m, kwargs):\n\u001b[0;32m   1213\u001b[0m \u001b[38;5;250m    \u001b[39m\u001b[38;5;124;03m\"\"\"\u001b[39;00m\n\u001b[0;32m   1214\u001b[0m \u001b[38;5;124;03m    Update artist properties without prenormalizing them, but generating\u001b[39;00m\n\u001b[0;32m   1215\u001b[0m \u001b[38;5;124;03m    errors as if calling `set`.\u001b[39;00m\n\u001b[0;32m   1216\u001b[0m \n\u001b[0;32m   1217\u001b[0m \u001b[38;5;124;03m    The lack of prenormalization is to maintain backcompatibility.\u001b[39;00m\n\u001b[0;32m   1218\u001b[0m \u001b[38;5;124;03m    \"\"\"\u001b[39;00m\n\u001b[1;32m-> 1219\u001b[0m     \u001b[38;5;28;01mreturn\u001b[39;00m \u001b[38;5;28;43mself\u001b[39;49m\u001b[38;5;241;43m.\u001b[39;49m\u001b[43m_update_props\u001b[49m\u001b[43m(\u001b[49m\n\u001b[0;32m   1220\u001b[0m \u001b[43m        \u001b[49m\u001b[43mkwargs\u001b[49m\u001b[43m,\u001b[49m\u001b[43m \u001b[49m\u001b[38;5;124;43m\"\u001b[39;49m\u001b[38;5;132;43;01m{cls.__name__}\u001b[39;49;00m\u001b[38;5;124;43m.set() got an unexpected keyword argument \u001b[39;49m\u001b[38;5;124;43m\"\u001b[39;49m\n\u001b[0;32m   1221\u001b[0m \u001b[43m        \u001b[49m\u001b[38;5;124;43m\"\u001b[39;49m\u001b[38;5;132;43;01m{prop_name!r}\u001b[39;49;00m\u001b[38;5;124;43m\"\u001b[39;49m\u001b[43m)\u001b[49m\n",
      "File \u001b[1;32mc:\\Users\\Richa\\anaconda3\\lib\\site-packages\\matplotlib\\artist.py:1195\u001b[0m, in \u001b[0;36mArtist._update_props\u001b[1;34m(self, props, errfmt)\u001b[0m\n\u001b[0;32m   1192\u001b[0m             \u001b[38;5;28;01mif\u001b[39;00m \u001b[38;5;129;01mnot\u001b[39;00m \u001b[38;5;28mcallable\u001b[39m(func):\n\u001b[0;32m   1193\u001b[0m                 \u001b[38;5;28;01mraise\u001b[39;00m \u001b[38;5;167;01mAttributeError\u001b[39;00m(\n\u001b[0;32m   1194\u001b[0m                     errfmt\u001b[38;5;241m.\u001b[39mformat(\u001b[38;5;28mcls\u001b[39m\u001b[38;5;241m=\u001b[39m\u001b[38;5;28mtype\u001b[39m(\u001b[38;5;28mself\u001b[39m), prop_name\u001b[38;5;241m=\u001b[39mk))\n\u001b[1;32m-> 1195\u001b[0m             ret\u001b[38;5;241m.\u001b[39mappend(\u001b[43mfunc\u001b[49m\u001b[43m(\u001b[49m\u001b[43mv\u001b[49m\u001b[43m)\u001b[49m)\n\u001b[0;32m   1196\u001b[0m \u001b[38;5;28;01mif\u001b[39;00m ret:\n\u001b[0;32m   1197\u001b[0m     \u001b[38;5;28mself\u001b[39m\u001b[38;5;241m.\u001b[39mpchanged()\n",
      "File \u001b[1;32mc:\\Users\\Richa\\anaconda3\\lib\\site-packages\\matplotlib\\text.py:1231\u001b[0m, in \u001b[0;36mText.set_rotation\u001b[1;34m(self, s)\u001b[0m\n\u001b[0;32m   1229\u001b[0m     \u001b[38;5;28mself\u001b[39m\u001b[38;5;241m.\u001b[39m_rotation \u001b[38;5;241m=\u001b[39m \u001b[38;5;241m90.\u001b[39m\n\u001b[0;32m   1230\u001b[0m \u001b[38;5;28;01melse\u001b[39;00m:\n\u001b[1;32m-> 1231\u001b[0m     \u001b[38;5;28;01mraise\u001b[39;00m \u001b[38;5;167;01mValueError\u001b[39;00m(\u001b[38;5;124m\"\u001b[39m\u001b[38;5;124mrotation must be \u001b[39m\u001b[38;5;124m'\u001b[39m\u001b[38;5;124mvertical\u001b[39m\u001b[38;5;124m'\u001b[39m\u001b[38;5;124m, \u001b[39m\u001b[38;5;124m'\u001b[39m\u001b[38;5;124mhorizontal\u001b[39m\u001b[38;5;124m'\u001b[39m\u001b[38;5;124m or \u001b[39m\u001b[38;5;124m\"\u001b[39m\n\u001b[0;32m   1232\u001b[0m                      \u001b[38;5;124mf\u001b[39m\u001b[38;5;124m\"\u001b[39m\u001b[38;5;124ma number, not \u001b[39m\u001b[38;5;132;01m{\u001b[39;00ms\u001b[38;5;132;01m}\u001b[39;00m\u001b[38;5;124m\"\u001b[39m)\n\u001b[0;32m   1233\u001b[0m \u001b[38;5;28mself\u001b[39m\u001b[38;5;241m.\u001b[39mstale \u001b[38;5;241m=\u001b[39m \u001b[38;5;28;01mTrue\u001b[39;00m\n",
      "\u001b[1;31mValueError\u001b[0m: rotation must be 'vertical', 'horizontal' or a number, not 45"
     ]
    },
    {
     "data": {
      "image/png": "[encoded data removed]",
      "text/plain": [
       "<Figure size 640x480 with 1 Axes>"
      ]
     },
     "metadata": {},
     "output_type": "display_data"
    }
   ],
   "source": [
    "sn.countplot(x = books['Actual Genre'])\n",
    "plt.xticks(rotation = '45')"
   ]
  },
  {
   "cell_type": "code",
   "execution_count": 37,
   "id": "fluid-constraint",
   "metadata": {},
   "outputs": [],
   "source": [
    "# saving the model\n",
    "\n",
    "import pickle\n",
    "file = open('bookgenremodel.pkl','wb')\n",
    "pickle.dump(mb,file)\n",
    "file.close()"
   ]
  },
  {
   "cell_type": "code",
   "execution_count": 38,
   "id": "distant-danger",
   "metadata": {},
   "outputs": [
    {
     "data": {
      "text/plain": [
       "'book open jason awaken school bu unabl rememb anyth past sit next piper mclean leo valdez call name say girlfriend best friend respect three part class field trip grand canyon arriv classmat dylan turn venti storm spirit attack trio trip leader coach gleeson hedg ensu fight jason surpris everyon includ one coin turn sword us battl storm spirit coach hedg reveal satyr fight taken captiv flee spirit battl fli chariot arriv rescu trio one peopl annabeth upset discov miss boyfriend perci jackson expect annabeth seek perci told vision goddess hera look guy one shoe turn jason shoe destroy fight jason piper leo told demigod taken back camp half blood meet greek demigod child like leo reveal son hephaestu piper daughter aphrodit jason son zeu though hera tell champion jason later discov full brother zeu demigod daughter thalia grace hunter artemi shortli arriv three given quest rescu hera captur set soon discov enemi work order gaea overthrow god quest encount thalia hunter look perci thalia jason reunit first sinc jason captur age two way aeolu castl jason leo piper becom separ thalia promis meet wolf hous last place thalia seen jason meet nearli apprehend aeolu gaea order trio manag escap thank melli aeolu former assist end san francisco thank result dream piper aphrodit land san francisco trio rush mt diablo fight giant enceladu kidnap piper father manag kill giant save piper father rush wolf hous free hera although hero hunter save hera king giant porphyrion rise fulli disappear hole earth jason memori start return rememb hero roman counterpart camp half blood somewher near san francisco son jupit zeu roman aspect realiz hera also known juno switch perci jackson roman camp memori life hope two camp would ultim work togeth fight giant defeat goddess gaea'"
      ]
     },
     "execution_count": 38,
     "metadata": {},
     "output_type": "execute_result"
    }
   ],
   "source": [
    "books['summary'].iloc[1]"
   ]
  },
  {
   "cell_type": "code",
   "execution_count": 39,
   "id": "cordless-candy",
   "metadata": {},
   "outputs": [
    {
     "data": {
      "text/html": [
       "<style>#sk-container-id-1 {color: black;}#sk-container-id-1 pre{padding: 0;}#sk-container-id-1 div.sk-toggleable {background-color: white;}#sk-container-id-1 label.sk-toggleable__label {cursor: pointer;display: block;width: 100%;margin-bottom: 0;padding: 0.3em;box-sizing: border-box;text-align: center;}#sk-container-id-1 label.sk-toggleable__label-arrow:before {content: \"▸\";float: left;margin-right: 0.25em;color: #696969;}#sk-container-id-1 label.sk-toggleable__label-arrow:hover:before {color: black;}#sk-container-id-1 div.sk-estimator:hover label.sk-toggleable__label-arrow:before {color: black;}#sk-container-id-1 div.sk-toggleable__content {max-height: 0;max-width: 0;overflow: hidden;text-align: left;background-color: #f0f8ff;}#sk-container-id-1 div.sk-toggleable__content pre {margin: 0.2em;color: black;border-radius: 0.25em;background-color: #f0f8ff;}#sk-container-id-1 input.sk-toggleable__control:checked~div.sk-toggleable__content {max-height: 200px;max-width: 100%;overflow: auto;}#sk-container-id-1 input.sk-toggleable__control:checked~label.sk-toggleable__label-arrow:before {content: \"▾\";}#sk-container-id-1 div.sk-estimator input.sk-toggleable__control:checked~label.sk-toggleable__label {background-color: #d4ebff;}#sk-container-id-1 div.sk-label input.sk-toggleable__control:checked~label.sk-toggleable__label {background-color: #d4ebff;}#sk-container-id-1 input.sk-hidden--visually {border: 0;clip: rect(1px 1px 1px 1px);clip: rect(1px, 1px, 1px, 1px);height: 1px;margin: -1px;overflow: hidden;padding: 0;position: absolute;width: 1px;}#sk-container-id-1 div.sk-estimator {font-family: monospace;background-color: #f0f8ff;border: 1px dotted black;border-radius: 0.25em;box-sizing: border-box;margin-bottom: 0.5em;}#sk-container-id-1 div.sk-estimator:hover {background-color: #d4ebff;}#sk-container-id-1 div.sk-parallel-item::after {content: \"\";width: 100%;border-bottom: 1px solid gray;flex-grow: 1;}#sk-container-id-1 div.sk-label:hover label.sk-toggleable__label {background-color: #d4ebff;}#sk-container-id-1 div.sk-serial::before {content: \"\";position: absolute;border-left: 1px solid gray;box-sizing: border-box;top: 0;bottom: 0;left: 50%;z-index: 0;}#sk-container-id-1 div.sk-serial {display: flex;flex-direction: column;align-items: center;background-color: white;padding-right: 0.2em;padding-left: 0.2em;position: relative;}#sk-container-id-1 div.sk-item {position: relative;z-index: 1;}#sk-container-id-1 div.sk-parallel {display: flex;align-items: stretch;justify-content: center;background-color: white;position: relative;}#sk-container-id-1 div.sk-item::before, #sk-container-id-1 div.sk-parallel-item::before {content: \"\";position: absolute;border-left: 1px solid gray;box-sizing: border-box;top: 0;bottom: 0;left: 50%;z-index: -1;}#sk-container-id-1 div.sk-parallel-item {display: flex;flex-direction: column;z-index: 1;position: relative;background-color: white;}#sk-container-id-1 div.sk-parallel-item:first-child::after {align-self: flex-end;width: 50%;}#sk-container-id-1 div.sk-parallel-item:last-child::after {align-self: flex-start;width: 50%;}#sk-container-id-1 div.sk-parallel-item:only-child::after {width: 0;}#sk-container-id-1 div.sk-dashed-wrapped {border: 1px dashed gray;margin: 0 0.4em 0.5em 0.4em;box-sizing: border-box;padding-bottom: 0.4em;background-color: white;}#sk-container-id-1 div.sk-label label {font-family: monospace;font-weight: bold;display: inline-block;line-height: 1.2em;}#sk-container-id-1 div.sk-label-container {text-align: center;}#sk-container-id-1 div.sk-container {/* jupyter's `normalize.less` sets `[hidden] { display: none; }` but bootstrap.min.css set `[hidden] { display: none !important; }` so we also need the `!important` here to be able to override the default hidden behavior on the sphinx rendered scikit-learn.org. See: https://github.com/scikit-learn/scikit-learn/issues/21755 */display: inline-block !important;position: relative;}#sk-container-id-1 div.sk-text-repr-fallback {display: none;}</style><div id=\"sk-container-id-1\" class=\"sk-top-container\"><div class=\"sk-text-repr-fallback\"><pre>TfidfVectorizer(max_df=0.8, max_features=10000)</pre><b>In a Jupyter environment, please rerun this cell to show the HTML representation or trust the notebook. <br />On GitHub, the HTML representation is unable to render, please try loading this page with nbviewer.org.</b></div><div class=\"sk-container\" hidden><div class=\"sk-item\"><div class=\"sk-estimator sk-toggleable\"><input class=\"sk-toggleable__control sk-hidden--visually\" id=\"sk-estimator-id-1\" type=\"checkbox\" checked><label for=\"sk-estimator-id-1\" class=\"sk-toggleable__label sk-toggleable__label-arrow\">TfidfVectorizer</label><div class=\"sk-toggleable__content\"><pre>TfidfVectorizer(max_df=0.8, max_features=10000)</pre></div></div></div></div></div>"
      ],
      "text/plain": [
       "TfidfVectorizer(max_df=0.8, max_features=10000)"
      ]
     },
     "execution_count": 39,
     "metadata": {},
     "output_type": "execute_result"
    }
   ],
   "source": [
    "tfidf_vectorizer"
   ]
  },
  {
   "cell_type": "code",
   "execution_count": 40,
   "id": "extra-check",
   "metadata": {},
   "outputs": [],
   "source": [
    "file = open('tfdifvector.pkl','wb')\n",
    "pickle.dump(tfidf_vectorizer,file)\n",
    "file.close()"
   ]
  },
  {
   "cell_type": "code",
   "execution_count": 41,
   "id": "accredited-vintage",
   "metadata": {},
   "outputs": [
    {
     "name": "stderr",
     "output_type": "stream",
     "text": [
      "[nltk_data] Downloading package wordnet to ./...\n"
     ]
    },
    {
     "data": {
      "text/plain": [
       "True"
      ]
     },
     "execution_count": 41,
     "metadata": {},
     "output_type": "execute_result"
    }
   ],
   "source": [
    "wordnet_down = nltk.download('wordnet',download_dir='./')\n",
    "wordnet_down"
   ]
  },
  {
   "cell_type": "code",
   "execution_count": 42,
   "id": "working-master",
   "metadata": {},
   "outputs": [
    {
     "name": "stderr",
     "output_type": "stream",
     "text": [
      "[nltk_data] Downloading package stopwords to ./...\n",
      "[nltk_data]   Unzipping corpora\\stopwords.zip.\n"
     ]
    },
    {
     "data": {
      "text/plain": [
       "True"
      ]
     },
     "execution_count": 42,
     "metadata": {},
     "output_type": "execute_result"
    }
   ],
   "source": [
    "nltk.download('stopwords',download_dir='./')"
   ]
  }
 ],
 "metadata": {
  "kernelspec": {
   "display_name": "Python 3",
   "language": "python",
   "name": "python3"
  },
  "language_info": {
   "codemirror_mode": {
    "name": "ipython",
    "version": 3
   },
   "file_extension": ".py",
   "mimetype": "text/x-python",
   "name": "python",
   "nbconvert_exporter": "python",
   "pygments_lexer": "ipython3",
   "version": "3.10.13"
  }
 },
 "nbformat": 4,
 "nbformat_minor": 5
}
